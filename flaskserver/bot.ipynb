{
 "cells": [
  {
   "cell_type": "code",
   "execution_count": 1,
   "metadata": {},
   "outputs": [
    {
     "name": "stdout",
     "output_type": "stream",
     "text": [
      "Requirement already satisfied: transformers in c:\\users\\ditec\\anaconda3\\envs\\crescendo\\lib\\site-packages (4.37.2)\n",
      "Collecting langchain\n",
      "  Downloading langchain-0.1.8-py3-none-any.whl.metadata (13 kB)\n",
      "Collecting langchain-community\n",
      "  Downloading langchain_community-0.0.21-py3-none-any.whl.metadata (8.1 kB)\n",
      "Requirement already satisfied: filelock in c:\\users\\ditec\\anaconda3\\envs\\crescendo\\lib\\site-packages (from transformers) (3.13.1)\n",
      "Requirement already satisfied: huggingface-hub<1.0,>=0.19.3 in c:\\users\\ditec\\anaconda3\\envs\\crescendo\\lib\\site-packages (from transformers) (0.20.3)\n",
      "Requirement already satisfied: numpy>=1.17 in c:\\users\\ditec\\anaconda3\\envs\\crescendo\\lib\\site-packages (from transformers) (1.24.4)\n",
      "Requirement already satisfied: packaging>=20.0 in c:\\users\\ditec\\anaconda3\\envs\\crescendo\\lib\\site-packages (from transformers) (23.2)\n",
      "Requirement already satisfied: pyyaml>=5.1 in c:\\users\\ditec\\anaconda3\\envs\\crescendo\\lib\\site-packages (from transformers) (6.0.1)\n",
      "Requirement already satisfied: regex!=2019.12.17 in c:\\users\\ditec\\anaconda3\\envs\\crescendo\\lib\\site-packages (from transformers) (2023.12.25)\n",
      "Requirement already satisfied: requests in c:\\users\\ditec\\anaconda3\\envs\\crescendo\\lib\\site-packages (from transformers) (2.31.0)\n",
      "Requirement already satisfied: tokenizers<0.19,>=0.14 in c:\\users\\ditec\\anaconda3\\envs\\crescendo\\lib\\site-packages (from transformers) (0.15.2)\n",
      "Requirement already satisfied: safetensors>=0.4.1 in c:\\users\\ditec\\anaconda3\\envs\\crescendo\\lib\\site-packages (from transformers) (0.4.2)\n",
      "Requirement already satisfied: tqdm>=4.27 in c:\\users\\ditec\\anaconda3\\envs\\crescendo\\lib\\site-packages (from transformers) (4.66.2)\n",
      "Requirement already satisfied: SQLAlchemy<3,>=1.4 in c:\\users\\ditec\\anaconda3\\envs\\crescendo\\lib\\site-packages (from langchain) (2.0.27)\n",
      "Requirement already satisfied: aiohttp<4.0.0,>=3.8.3 in c:\\users\\ditec\\anaconda3\\envs\\crescendo\\lib\\site-packages (from langchain) (3.9.3)\n",
      "Requirement already satisfied: async-timeout<5.0.0,>=4.0.0 in c:\\users\\ditec\\anaconda3\\envs\\crescendo\\lib\\site-packages (from langchain) (4.0.3)\n",
      "Collecting dataclasses-json<0.7,>=0.5.7 (from langchain)\n",
      "  Using cached dataclasses_json-0.6.4-py3-none-any.whl.metadata (25 kB)\n",
      "Collecting jsonpatch<2.0,>=1.33 (from langchain)\n",
      "  Using cached jsonpatch-1.33-py2.py3-none-any.whl.metadata (3.0 kB)\n",
      "Collecting langchain-core<0.2,>=0.1.24 (from langchain)\n",
      "  Downloading langchain_core-0.1.24-py3-none-any.whl.metadata (6.0 kB)\n",
      "Collecting langsmith<0.2.0,>=0.1.0 (from langchain)\n",
      "  Downloading langsmith-0.1.3-py3-none-any.whl.metadata (13 kB)\n",
      "Requirement already satisfied: pydantic<3,>=1 in c:\\users\\ditec\\anaconda3\\envs\\crescendo\\lib\\site-packages (from langchain) (2.6.1)\n",
      "Collecting tenacity<9.0.0,>=8.1.0 (from langchain)\n",
      "  Using cached tenacity-8.2.3-py3-none-any.whl.metadata (1.0 kB)\n",
      "Requirement already satisfied: aiosignal>=1.1.2 in c:\\users\\ditec\\anaconda3\\envs\\crescendo\\lib\\site-packages (from aiohttp<4.0.0,>=3.8.3->langchain) (1.3.1)\n",
      "Requirement already satisfied: attrs>=17.3.0 in c:\\users\\ditec\\anaconda3\\envs\\crescendo\\lib\\site-packages (from aiohttp<4.0.0,>=3.8.3->langchain) (23.2.0)\n",
      "Requirement already satisfied: frozenlist>=1.1.1 in c:\\users\\ditec\\anaconda3\\envs\\crescendo\\lib\\site-packages (from aiohttp<4.0.0,>=3.8.3->langchain) (1.4.1)\n",
      "Requirement already satisfied: multidict<7.0,>=4.5 in c:\\users\\ditec\\anaconda3\\envs\\crescendo\\lib\\site-packages (from aiohttp<4.0.0,>=3.8.3->langchain) (6.0.5)\n",
      "Requirement already satisfied: yarl<2.0,>=1.0 in c:\\users\\ditec\\anaconda3\\envs\\crescendo\\lib\\site-packages (from aiohttp<4.0.0,>=3.8.3->langchain) (1.9.4)\n",
      "Collecting marshmallow<4.0.0,>=3.18.0 (from dataclasses-json<0.7,>=0.5.7->langchain)\n",
      "  Using cached marshmallow-3.20.2-py3-none-any.whl.metadata (7.5 kB)\n",
      "Collecting typing-inspect<1,>=0.4.0 (from dataclasses-json<0.7,>=0.5.7->langchain)\n",
      "  Using cached typing_inspect-0.9.0-py3-none-any.whl.metadata (1.5 kB)\n",
      "Requirement already satisfied: fsspec>=2023.5.0 in c:\\users\\ditec\\anaconda3\\envs\\crescendo\\lib\\site-packages (from huggingface-hub<1.0,>=0.19.3->transformers) (2023.10.0)\n",
      "Requirement already satisfied: typing-extensions>=3.7.4.3 in c:\\users\\ditec\\anaconda3\\envs\\crescendo\\lib\\site-packages (from huggingface-hub<1.0,>=0.19.3->transformers) (4.9.0)\n",
      "Collecting jsonpointer>=1.9 (from jsonpatch<2.0,>=1.33->langchain)\n",
      "  Using cached jsonpointer-2.4-py2.py3-none-any.whl.metadata (2.5 kB)\n",
      "Collecting anyio<5,>=3 (from langchain-core<0.2,>=0.1.24->langchain)\n",
      "  Downloading anyio-4.3.0-py3-none-any.whl.metadata (4.6 kB)\n",
      "Requirement already satisfied: annotated-types>=0.4.0 in c:\\users\\ditec\\anaconda3\\envs\\crescendo\\lib\\site-packages (from pydantic<3,>=1->langchain) (0.6.0)\n",
      "Requirement already satisfied: pydantic-core==2.16.2 in c:\\users\\ditec\\anaconda3\\envs\\crescendo\\lib\\site-packages (from pydantic<3,>=1->langchain) (2.16.2)\n",
      "Requirement already satisfied: charset-normalizer<4,>=2 in c:\\users\\ditec\\anaconda3\\envs\\crescendo\\lib\\site-packages (from requests->transformers) (3.3.2)\n",
      "Requirement already satisfied: idna<4,>=2.5 in c:\\users\\ditec\\anaconda3\\envs\\crescendo\\lib\\site-packages (from requests->transformers) (3.6)\n",
      "Requirement already satisfied: urllib3<3,>=1.21.1 in c:\\users\\ditec\\anaconda3\\envs\\crescendo\\lib\\site-packages (from requests->transformers) (1.26.18)\n",
      "Requirement already satisfied: certifi>=2017.4.17 in c:\\users\\ditec\\anaconda3\\envs\\crescendo\\lib\\site-packages (from requests->transformers) (2024.2.2)\n",
      "Requirement already satisfied: greenlet!=0.4.17 in c:\\users\\ditec\\anaconda3\\envs\\crescendo\\lib\\site-packages (from SQLAlchemy<3,>=1.4->langchain) (3.0.3)\n",
      "Requirement already satisfied: colorama in c:\\users\\ditec\\anaconda3\\envs\\crescendo\\lib\\site-packages (from tqdm>=4.27->transformers) (0.4.6)\n",
      "Collecting sniffio>=1.1 (from anyio<5,>=3->langchain-core<0.2,>=0.1.24->langchain)\n",
      "  Using cached sniffio-1.3.0-py3-none-any.whl (10 kB)\n",
      "Requirement already satisfied: exceptiongroup>=1.0.2 in c:\\users\\ditec\\anaconda3\\envs\\crescendo\\lib\\site-packages (from anyio<5,>=3->langchain-core<0.2,>=0.1.24->langchain) (1.2.0)\n",
      "Collecting mypy-extensions>=0.3.0 (from typing-inspect<1,>=0.4.0->dataclasses-json<0.7,>=0.5.7->langchain)\n",
      "  Downloading mypy_extensions-1.0.0-py3-none-any.whl.metadata (1.1 kB)\n",
      "Downloading langchain-0.1.8-py3-none-any.whl (816 kB)\n",
      "   ---------------------------------------- 0.0/816.1 kB ? eta -:--:--\n",
      "   - -------------------------------------- 30.7/816.1 kB ? eta -:--:--\n",
      "   ----- ---------------------------------- 112.6/816.1 kB 2.2 MB/s eta 0:00:01\n",
      "   ------------------------- -------------- 512.0/816.1 kB 3.6 MB/s eta 0:00:01\n",
      "   ---------------------------------------- 816.1/816.1 kB 4.7 MB/s eta 0:00:00\n",
      "Downloading langchain_community-0.0.21-py3-none-any.whl (1.7 MB)\n",
      "   ---------------------------------------- 0.0/1.7 MB ? eta -:--:--\n",
      "   ---------------- ----------------------- 0.7/1.7 MB 22.1 MB/s eta 0:00:01\n",
      "   ----------------------------- ---------- 1.2/1.7 MB 15.8 MB/s eta 0:00:01\n",
      "   ---------------------------------------  1.7/1.7 MB 13.5 MB/s eta 0:00:01\n",
      "   ---------------------------------------- 1.7/1.7 MB 12.0 MB/s eta 0:00:00\n",
      "Using cached dataclasses_json-0.6.4-py3-none-any.whl (28 kB)\n",
      "Using cached jsonpatch-1.33-py2.py3-none-any.whl (12 kB)\n",
      "Downloading langchain_core-0.1.24-py3-none-any.whl (241 kB)\n",
      "   ---------------------------------------- 0.0/241.3 kB ? eta -:--:--\n",
      "   ------------------ --------------------- 112.6/241.3 kB 3.3 MB/s eta 0:00:01\n",
      "   ----------------------- ---------------- 143.4/241.3 kB 2.1 MB/s eta 0:00:01\n",
      "   ----------------------- ---------------- 143.4/241.3 kB 2.1 MB/s eta 0:00:01\n",
      "   ----------------------- ---------------- 143.4/241.3 kB 2.1 MB/s eta 0:00:01\n",
      "   ----------------------- ---------------- 143.4/241.3 kB 2.1 MB/s eta 0:00:01\n",
      "   ----------------------- ---------------- 143.4/241.3 kB 2.1 MB/s eta 0:00:01\n",
      "   ----------------------- ---------------- 143.4/241.3 kB 2.1 MB/s eta 0:00:01\n",
      "   -------------------------------------- 241.3/241.3 kB 673.5 kB/s eta 0:00:00\n",
      "Downloading langsmith-0.1.3-py3-none-any.whl (60 kB)\n",
      "   ---------------------------------------- 0.0/61.0 kB ? eta -:--:--\n",
      "   ------ --------------------------------- 10.2/61.0 kB ? eta -:--:--\n",
      "   ---------------------------------------- 61.0/61.0 kB 805.5 kB/s eta 0:00:00\n",
      "Using cached tenacity-8.2.3-py3-none-any.whl (24 kB)\n",
      "Downloading anyio-4.3.0-py3-none-any.whl (85 kB)\n",
      "   ---------------------------------------- 0.0/85.6 kB ? eta -:--:--\n",
      "   ---------------------------------------- 85.6/85.6 kB 2.4 MB/s eta 0:00:00\n",
      "Using cached jsonpointer-2.4-py2.py3-none-any.whl (7.8 kB)\n",
      "Using cached marshmallow-3.20.2-py3-none-any.whl (49 kB)\n",
      "Using cached typing_inspect-0.9.0-py3-none-any.whl (8.8 kB)\n",
      "Using cached mypy_extensions-1.0.0-py3-none-any.whl (4.7 kB)\n",
      "Installing collected packages: tenacity, sniffio, mypy-extensions, marshmallow, jsonpointer, typing-inspect, jsonpatch, anyio, langsmith, dataclasses-json, langchain-core, langchain-community, langchain\n",
      "Successfully installed anyio-4.3.0 dataclasses-json-0.6.4 jsonpatch-1.33 jsonpointer-2.4 langchain-0.1.8 langchain-community-0.0.21 langchain-core-0.1.24 langsmith-0.1.3 marshmallow-3.20.2 mypy-extensions-1.0.0 sniffio-1.3.0 tenacity-8.2.3 typing-inspect-0.9.0\n",
      "Note: you may need to restart the kernel to use updated packages.\n"
     ]
    },
    {
     "name": "stderr",
     "output_type": "stream",
     "text": [
      "WARNING: Ignoring invalid distribution -cipy (c:\\users\\ditec\\anaconda3\\envs\\crescendo\\lib\\site-packages)\n",
      "WARNING: Ignoring invalid distribution -cipy (c:\\users\\ditec\\anaconda3\\envs\\crescendo\\lib\\site-packages)\n"
     ]
    }
   ],
   "source": [
    "%pip install --upgrade transformers langchain langchain-community"
   ]
  },
  {
   "cell_type": "code",
   "execution_count": 4,
   "metadata": {},
   "outputs": [
    {
     "name": "stdout",
     "output_type": "stream",
     "text": [
      "Collecting python-dotenv\n",
      "  Using cached python_dotenv-1.0.1-py3-none-any.whl.metadata (23 kB)\n",
      "Using cached python_dotenv-1.0.1-py3-none-any.whl (19 kB)\n",
      "Installing collected packages: python-dotenv\n",
      "Successfully installed python-dotenv-1.0.1\n",
      "Note: you may need to restart the kernel to use updated packages.\n"
     ]
    },
    {
     "name": "stderr",
     "output_type": "stream",
     "text": [
      "WARNING: Ignoring invalid distribution -cipy (c:\\users\\ditec\\anaconda3\\envs\\crescendo\\lib\\site-packages)\n",
      "WARNING: Ignoring invalid distribution -cipy (c:\\users\\ditec\\anaconda3\\envs\\crescendo\\lib\\site-packages)\n"
     ]
    }
   ],
   "source": [
    "%pip install python-dotenv"
   ]
  },
  {
   "cell_type": "code",
   "execution_count": 16,
   "metadata": {},
   "outputs": [
    {
     "data": {
      "text/plain": [
       "True"
      ]
     },
     "execution_count": 16,
     "metadata": {},
     "output_type": "execute_result"
    }
   ],
   "source": [
    "# from langchain.llms import TextGenerationWrapper\n",
    "from langchain.chains import ConversationalRetrievalChain\n",
    "from langchain.document_loaders import TextLoader\n",
    "from transformers import AutoTokenizer, AutoModelForCausalLM\n",
    "from langchain.vectorstores import FAISS\n",
    "from langchain.llms.huggingface_hub import HuggingFaceHub\n",
    "from langchain_community.chat_models.huggingface import ChatHuggingFace\n",
    "from dotenv import load_dotenv, get_key\n",
    "import os\n",
    "load_dotenv()\n"
   ]
  },
  {
   "cell_type": "code",
   "execution_count": 18,
   "metadata": {},
   "outputs": [
    {
     "name": "stderr",
     "output_type": "stream",
     "text": [
      "c:\\Users\\ditec\\anaconda3\\envs\\crescendo\\lib\\site-packages\\langchain_core\\_api\\deprecation.py:117: LangChainDeprecationWarning: The class `langchain_community.llms.huggingface_text_gen_inference.HuggingFaceTextGenInference` was deprecated in langchain-community 0.0.21 and will be removed in 0.2.0. Use HuggingFaceEndpoint instead.\n",
      "  warn_deprecated(\n",
      "WARNING! repo_id is not default parameter.\n",
      "                    repo_id was transferred to model_kwargs.\n",
      "                    Please confirm that repo_id is what you intended.\n",
      "WARNING! task is not default parameter.\n",
      "                    task was transferred to model_kwargs.\n",
      "                    Please confirm that task is what you intended.\n",
      "WARNING! huggingfacehub_api_token is not default parameter.\n",
      "                    huggingfacehub_api_token was transferred to model_kwargs.\n",
      "                    Please confirm that huggingfacehub_api_token is what you intended.\n"
     ]
    }
   ],
   "source": [
    "# Load Hugging Face model mixtrel 8x7b from huggingface hub\n",
    "os.environ[\"HUGGINGFACEHUB_API_TOKEN\"] = get_key(key_to_get=\"HUGGINGFACEHUB_API_KEY\",dotenv_path=\".env\")\n",
    "llm = HuggingFaceHub(\n",
    "    repo_id=\"mistralai/Mixtral-8x7B-Instruct-v0.1\",\n",
    "    task=\"text-generation\",\n",
    "    model_kwargs={\n",
    "        \"max_new_tokens\": 1000,\n",
    "        \"top_k\": 30,\n",
    "        \"temperature\": 0.5,\n",
    "        \"repetition_penalty\": 1.03,\n",
    "    },\n",
    ")\n",
    "model = ChatHuggingFace(llm=llm)\n",
    "# Load conversation history (replace with your own text loader)\n",
    "loader = TextLoader(\"conversation_history.txt\")\n",
    "documents = loader.load()"
   ]
  },
  {
   "cell_type": "code",
   "execution_count": 60,
   "metadata": {},
   "outputs": [],
   "source": [
    "from langchain_community.llms import HuggingFaceHub\n",
    "llm = HuggingFaceHub(\n",
    "    repo_id=\"HuggingFaceH4/zephyr-7b-beta\",\n",
    "    task=\"text-generation\",\n",
    "    model_kwargs={\n",
    "        \"max_new_tokens\": 512,\n",
    "        \"top_k\": 30,\n",
    "        \"temperature\": 0.1,\n",
    "        \"repetition_penalty\": 1.03,\n",
    "    },\n",
    ")"
   ]
  },
  {
   "cell_type": "code",
   "execution_count": 97,
   "metadata": {},
   "outputs": [
    {
     "name": "stdout",
     "output_type": "stream",
     "text": [
      "You're a helpful data assistant which can answer questions on following multiple reviews of a perticular product  \n",
      "Great Product , Value for Money, Original product, great quality. Good quality Very very nice Toothpaste Le sakte ho Worth the value I bought it for @281 pack of 4×200g and 2nd time @546 for 8×200gToothpaste is no doubt best but the packaging is ordenary it should be improved and sometime the price gets high otherwise happy with the product 😊😊 This is very good paste. Good 👍 Product quality is very good at good price of 277 1) Effect on teeth: It claims to solve many teeth problems, maybe there is effect but I didnt notice any.2) Sensitivity: Maybe not great for sensitive teeth. But not too bad.3) Taste: Tastes like some ayurvedic recipe. Not bad.4) Ingredients: Has many natural ingredients and minimal chemicals compared to other pastes.5) Price: The 3+1 combos are so much cheaper than the single ones. There are 100g, 150g, 200g variants in 3+1 combos, so check whichever you can afford and whichever is on biggger discount.Overall: Holygrail toothpaste. Would repurchase till I find a better cheaper alternative. Nice Indian product world's very reasonablly with very reasonable rate Good\n",
      "\n"
     ]
    }
   ],
   "source": [
    "from langchain.schema import HumanMessage, SystemMessage, AIMessage\n",
    "from langchain_community.chat_models.huggingface import ChatHuggingFace\n",
    "from langchain.prompts import PromptTemplate\n",
    "\n",
    "prompt = PromptTemplate(template= \"You're a helpful data assistant which can answer questions on following multiple reviews of a perticular product {reviews}\",input_variables=[\"reviews\"])\n",
    "\n",
    "user_template= PromptTemplate(template=\"{user_input}\", input_variables=[\"user_input\"])\n",
    "\n",
    "reviews = ''' \n",
    "Great Product , Value for Money, Original product, great quality. Good quality Very very nice Toothpaste Le sakte ho Worth the value I bought it for @281 pack of 4×200g and 2nd time @546 for 8×200gToothpaste is no doubt best but the packaging is ordenary it should be improved and sometime the price gets high otherwise happy with the product 😊😊 This is very good paste. Good 👍 Product quality is very good at good price of 277 1) Effect on teeth: It claims to solve many teeth problems, maybe there is effect but I didnt notice any.2) Sensitivity: Maybe not great for sensitive teeth. But not too bad.3) Taste: Tastes like some ayurvedic recipe. Not bad.4) Ingredients: Has many natural ingredients and minimal chemicals compared to other pastes.5) Price: The 3+1 combos are so much cheaper than the single ones. There are 100g, 150g, 200g variants in 3+1 combos, so check whichever you can afford and whichever is on biggger discount.Overall: Holygrail toothpaste. Would repurchase till I find a better cheaper alternative. Nice Indian product world's very reasonablly with very reasonable rate Good\n",
    "'''\n",
    "\n",
    "final_prompt = prompt.format(reviews=reviews)\n",
    "\n",
    "\n",
    "print(final_prompt)\n",
    "\n",
    "chat_model = ChatHuggingFace(llm=llm)\n"
   ]
  },
  {
   "cell_type": "code",
   "execution_count": 112,
   "metadata": {},
   "outputs": [],
   "source": [
    "def chatwithbot(txt:str):\n",
    "    messages = [\n",
    "    SystemMessage(content=final_prompt),\n",
    "    HumanMessage(content=user_template.format(user_input=txt))\n",
    "    ]\n",
    "    res = chat_model(messages).content\n",
    "    # trim res to remove the prompt to keep only the response after word assistant\n",
    "    res = res[res.find(\"assistant\")+9:]\n",
    "    return res\n",
    "    # remove the prompt from the response and return the last response\n",
    "\n",
    "\n",
    "    "
   ]
  },
  {
   "cell_type": "code",
   "execution_count": 113,
   "metadata": {},
   "outputs": [
    {
     "name": "stdout",
     "output_type": "stream",
     "text": [
      " which can answer questions on following multiple reviews of a perticular product  \n",
      "Great Product , Value for Money, Original product, great quality. Good quality Very very nice Toothpaste Le sakte ho Worth the value I bought it for @281 pack of 4×200g and 2nd time @546 for 8×200gToothpaste is no doubt best but the packaging is ordenary it should be improved and sometime the price gets high otherwise happy with the product 😊😊 This is very good paste. Good 👍 Product quality is very good at good price of 277 1) Effect on teeth: It claims to solve many teeth problems, maybe there is effect but I didnt notice any.2) Sensitivity: Maybe not great for sensitive teeth. But not too bad.3) Taste: Tastes like some ayurvedic recipe. Not bad.4) Ingredients: Has many natural ingredients and minimal chemicals compared to other pastes.5) Price: The 3+1 combos are so much cheaper than the single ones. There are 100g, 150g, 200g variants in 3+1 combos, so check whichever you can afford and whichever is on biggger discount.Overall: Holygrail toothpaste. Would repurchase till I find a better cheaper alternative. Nice Indian product world's very reasonablly with very reasonable rate Good\n",
      "</s>\n",
      "<|user|>\n",
      "Is it worth buying?</s>\n",
      "<|assistant|>\n",
      "Based on the reviews provided, it seems that most users are satisfied with the product and consider it to be a great value for money. The product has received positive feedback for its quality, effectiveness, and affordable price point. Therefore, it can be concluded that it is worth buying, especially if you are looking for a natural and Indian toothpaste brand. However, it's always recommended to try the product yourself before making a final decision.\n"
     ]
    }
   ],
   "source": [
    "print(chatwithbot(\"Is it worth buying?\"))"
   ]
  },
  {
   "cell_type": "code",
   "execution_count": 82,
   "metadata": {},
   "outputs": [
    {
     "ename": "UnboundLocalError",
     "evalue": "local variable 'messages' referenced before assignment",
     "output_type": "error",
     "traceback": [
      "\u001b[1;31m---------------------------------------------------------------------------\u001b[0m",
      "\u001b[1;31mUnboundLocalError\u001b[0m                         Traceback (most recent call last)",
      "Cell \u001b[1;32mIn[82], line 1\u001b[0m\n\u001b[1;32m----> 1\u001b[0m \u001b[38;5;28mprint\u001b[39m(\u001b[43mchatwithbot\u001b[49m\u001b[43m(\u001b[49m\u001b[38;5;124;43m\"\u001b[39;49m\u001b[38;5;124;43mWhat is the improvement needed in the product?\u001b[39;49m\u001b[38;5;124;43m\"\u001b[39;49m\u001b[43m)\u001b[49m)\n",
      "Cell \u001b[1;32mIn[80], line 2\u001b[0m, in \u001b[0;36mchatwithbot\u001b[1;34m(text)\u001b[0m\n\u001b[0;32m      1\u001b[0m \u001b[38;5;28;01mdef\u001b[39;00m \u001b[38;5;21mchatwithbot\u001b[39m(text :\u001b[38;5;28mstr\u001b[39m):\n\u001b[1;32m----> 2\u001b[0m     \u001b[43mmessages\u001b[49m\u001b[38;5;241m.\u001b[39mappend(HumanMessage(content\u001b[38;5;241m=\u001b[39mtext))\n\u001b[0;32m      3\u001b[0m     response \u001b[38;5;241m=\u001b[39m chat_model(messages)\n\u001b[0;32m      4\u001b[0m     messages \u001b[38;5;241m=\u001b[39m response\n",
      "\u001b[1;31mUnboundLocalError\u001b[0m: local variable 'messages' referenced before assignment"
     ]
    }
   ],
   "source": []
  },
  {
   "cell_type": "code",
   "execution_count": null,
   "metadata": {},
   "outputs": [],
   "source": []
  }
 ],
 "metadata": {
  "kernelspec": {
   "display_name": "crescendo",
   "language": "python",
   "name": "python3"
  },
  "language_info": {
   "codemirror_mode": {
    "name": "ipython",
    "version": 3
   },
   "file_extension": ".py",
   "mimetype": "text/x-python",
   "name": "python",
   "nbconvert_exporter": "python",
   "pygments_lexer": "ipython3",
   "version": "3.8.18"
  }
 },
 "nbformat": 4,
 "nbformat_minor": 2
}
